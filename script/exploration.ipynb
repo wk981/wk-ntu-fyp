{
 "cells": [
  {
   "cell_type": "code",
   "execution_count": null,
   "metadata": {},
   "outputs": [],
   "source": [
    "import pandas as pd\n",
    "from difflib import SequenceMatcher\n",
    "import json\n",
    "coursera_df = pd.read_excel('course_data.xlsx', sheet_name='Course Data')\n",
    "coursera_df = coursera_df.dropna(subset=['skills'])\n",
    "coursera_df = coursera_df.dropna(subset=['difficulty'])\n",
    "\n",
    "tsc_ccs_key_df = pd.read_excel('SkillsFramework_Dataset_2024_06.xlsx', sheet_name='TSC_CCS_Key')\n",
    "jobs_skillframework = pd.read_excel('SkillsFramework_Dataset_2024_06.xlsx', sheet_name='Job Role_Description')\n"
   ]
  },
  {
   "cell_type": "code",
   "execution_count": null,
   "metadata": {},
   "outputs": [],
   "source": [
    "tsc_ccs_key_skills_df = tsc_ccs_key_df['TSC_CCS Title']\n",
    "coursera_skills_df = coursera_df['skills']"
   ]
  },
  {
   "cell_type": "code",
   "execution_count": null,
   "metadata": {},
   "outputs": [],
   "source": [
    "coursera_skills_set = set()\n",
    "for row in coursera_skills_df:\n",
    "    coursera_skills_list = [item.strip() for item in row.split(',')]\n",
    "    for skill in coursera_skills_list:\n",
    "        coursera_skills_set.add(skill)\n",
    "\n",
    "coursera_skills_set"
   ]
  },
  {
   "cell_type": "code",
   "execution_count": null,
   "metadata": {},
   "outputs": [],
   "source": [
    "tsc_ccs_key_skills_df = tsc_ccs_key_skills_df.drop_duplicates()"
   ]
  },
  {
   "cell_type": "code",
   "execution_count": null,
   "metadata": {},
   "outputs": [],
   "source": [
    "def trigram_similarity(a, b):\n",
    "    return SequenceMatcher(None, a, b).ratio()"
   ]
  },
  {
   "cell_type": "code",
   "execution_count": null,
   "metadata": {},
   "outputs": [],
   "source": [
    "threshold = 0.7  # Define a similarity threshold\n",
    "# Dictionary to store the best match of each Coursera skill to a TSC skill\n",
    "best_match_skills_map = {}\n",
    "less_than_threshold_map = {}\n",
    "\n",
    "for skill in coursera_skills_set:\n",
    "    # Split the skills string from Coursera and strip any extra spaces\n",
    "    max_similarity = 0  # Reset for each skill\n",
    "    best_match = ['', 0]  # To store the best match result for each skill\n",
    "\n",
    "    for tsc_skill in tsc_ccs_key_skills_df:\n",
    "        similarity_score = trigram_similarity(skill, tsc_skill)\n",
    "        if similarity_score > max_similarity:\n",
    "            max_similarity = similarity_score\n",
    "            best_match = [tsc_skill, max_similarity]\n",
    "    \n",
    "    if best_match[1] <= threshold:\n",
    "        less_than_threshold_map[skill] = best_match\n",
    "    \n",
    "    # Print the best match found for the current Coursera skill\n",
    "    print(f\"coursera_skill: {skill} similarity score: {best_match[1]} to tsc_skill: {best_match[0]}\")\n",
    "    \n",
    "    # Map each Coursera skill to its best match regardless of the threshold\n",
    "    best_match_skills_map[skill] = best_match\n"
   ]
  },
  {
   "cell_type": "code",
   "execution_count": null,
   "metadata": {},
   "outputs": [],
   "source": [
    "threshold = 0.85  # Define a similarity threshold\n",
    "# Dictionary to store the best match of each Coursera skill to a TSC skill\n",
    "skillframe_tsc_similarity_coursera = {}\n",
    "skillframe_lessthansimilarity_tsc_similarity_coursera = {}\n",
    "for tsc_skill in tsc_ccs_key_skills_df:\n",
    "    max_similarity = 0  # Reset for each skill\n",
    "    best_match = ['', 0]  # To store the best match result for each skill\n",
    "    for skill in coursera_skills_set:\n",
    "        \n",
    "        similarity_score = trigram_similarity(skill, tsc_skill)\n",
    "        \n",
    "        if similarity_score > max_similarity:\n",
    "            max_similarity = similarity_score\n",
    "            best_match = [skill, max_similarity]\n",
    "        print(f\"{tsc_skill}, {skill}, {best_match}\")\n",
    "    if best_match[1] <= threshold:\n",
    "        skillframe_lessthansimilarity_tsc_similarity_coursera[tsc_skill] = best_match\n",
    "    \n",
    "    skillframe_tsc_similarity_coursera[tsc_skill] = best_match"
   ]
  },
  {
   "cell_type": "markdown",
   "metadata": {},
   "source": []
  },
  {
   "cell_type": "code",
   "execution_count": null,
   "metadata": {},
   "outputs": [],
   "source": [
    "import os\n",
    "folder_path = 'coursera'\n",
    "try:\n",
    "    os.mkdir(folder_path)\n",
    "    print(f\"Folder '{folder_path}' created successfully.\")\n",
    "except FileExistsError:\n",
    "    print(f\"Folder '{folder_path}' already exists.\")\n",
    "except Exception as e:\n",
    "    print(f\"An error occurred: {e}\")\n",
    "\n",
    "\n",
    "with open('./coursera/best_coursera_match_skills_map.json', 'w') as json_file:\n",
    "    json.dump(best_match_skills_map, json_file, indent=4)\n",
    "    print('Successfully save best_match_skills_map as json')\n",
    "\n",
    "with open('./coursera/less_than_threshold_map.json', 'w') as json_file:\n",
    "    json.dump(less_than_threshold_map , json_file, indent=4)\n",
    "    print('Successfully save less_than_threshold_map as json')\n",
    "\n",
    "with open('./coursera/skillframe_tsc_similarity_coursera.json', 'w') as json_file:\n",
    "    json.dump(skillframe_tsc_similarity_coursera, json_file, indent=4)\n",
    "    print('Successfully save skillframe_tsc_similarity_coursera as json')\n",
    "\n",
    "with open('./coursera/skillframe_lessthansimilarity_tsc_similarity_coursera.json', 'w') as json_file:\n",
    "    json.dump(skillframe_lessthansimilarity_tsc_similarity_coursera, json_file, indent=4)\n",
    "    print('Successfully save skillframe_lessthansimilarity_tsc_similarity_coursera as json')\n",
    "\n"
   ]
  }
 ],
 "metadata": {
  "kernelspec": {
   "display_name": "Python 3",
   "language": "python",
   "name": "python3"
  },
  "language_info": {
   "codemirror_mode": {
    "name": "ipython",
    "version": 3
   },
   "file_extension": ".py",
   "mimetype": "text/x-python",
   "name": "python",
   "nbconvert_exporter": "python",
   "pygments_lexer": "ipython3",
   "version": "3.10.11"
  }
 },
 "nbformat": 4,
 "nbformat_minor": 2
}
